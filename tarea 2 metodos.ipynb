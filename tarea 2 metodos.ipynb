{
 "cells": [
  {
   "cell_type": "markdown",
   "metadata": {},
   "source": [
    "Tarea 2.5"
   ]
  },
  {
   "cell_type": "markdown",
   "metadata": {},
   "source": [
    "Sin usar ciclos for, while, ni recurrencia escriba un código que calcule la siguiente sumatoria\n",
    "$$\n",
    "\\sum_{n = 1}^{100} n*(n+1)\n",
    "$$\n"
   ]
  },
  {
   "cell_type": "code",
   "execution_count": 3,
   "metadata": {},
   "outputs": [],
   "source": [
    "import numpy as np #Se importa el paquete numpy con abreviacion np"
   ]
  },
  {
   "cell_type": "code",
   "execution_count": 13,
   "metadata": {},
   "outputs": [
    {
     "name": "stdout",
     "output_type": "stream",
     "text": [
      "numeros de la sumatoria [    2     6    12    20    30    42    56    72    90   110   132   156\n",
      "   182   210   240   272   306   342   380   420   462   506   552   600\n",
      "   650   702   756   812   870   930   992  1056  1122  1190  1260  1332\n",
      "  1406  1482  1560  1640  1722  1806  1892  1980  2070  2162  2256  2352\n",
      "  2450  2550  2652  2756  2862  2970  3080  3192  3306  3422  3540  3660\n",
      "  3782  3906  4032  4160  4290  4422  4556  4692  4830  4970  5112  5256\n",
      "  5402  5550  5700  5852  6006  6162  6320  6480  6642  6806  6972  7140\n",
      "  7310  7482  7656  7832  8010  8190  8372  8556  8742  8930  9120  9312\n",
      "  9506  9702  9900 10100]\n",
      "Resultado total de la sumatoria 343400\n"
     ]
    }
   ],
   "source": [
    "#Definimos el rango de n con arange para un inicio en 1 y final en 100\n",
    "n = np.arange (1, 101) \n",
    "#Para obtener todos los numeros resultantes de la sumatoria uno a uno\n",
    "arreglo = [(n*(n+1))] #Utilizamos un arreglo para obtener cada numero de la sumatoria\n",
    "numeros = sum (arreglo) #Definimos los numeros como la suma total del arreglo\n",
    "print(\"numeros de la sumatoria\",numeros)\n",
    "\n",
    "#Para el resultado total de la sumatoria \n",
    "sumatoria = sum (n * (n + 1))  #Utilizamos el sum para sumar todos los numeros resultantes\n",
    "print(\"Resultado total de la sumatoria\", sumatoria)\n",
    "\n",
    "          "
   ]
  },
  {
   "cell_type": "markdown",
   "metadata": {},
   "source": [
    "# Calificacion: 7.0"
   ]
  }
 ],
 "metadata": {
  "kernelspec": {
   "display_name": "Python 3",
   "language": "python",
   "name": "python3"
  },
  "language_info": {
   "codemirror_mode": {
    "name": "ipython",
    "version": 3
   },
   "file_extension": ".py",
   "mimetype": "text/x-python",
   "name": "python",
   "nbconvert_exporter": "python",
   "pygments_lexer": "ipython3",
   "version": "3.8.3"
  },
  "toc": {
   "base_numbering": 1,
   "nav_menu": {},
   "number_sections": true,
   "sideBar": true,
   "skip_h1_title": false,
   "title_cell": "Table of Contents",
   "title_sidebar": "Contents",
   "toc_cell": false,
   "toc_position": {},
   "toc_section_display": true,
   "toc_window_display": false
  }
 },
 "nbformat": 4,
 "nbformat_minor": 5
}
