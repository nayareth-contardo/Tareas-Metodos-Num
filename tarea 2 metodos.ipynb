{
 "cells": [
  {
   "cell_type": "markdown",
   "id": "2a7a5779-d1ee-4cd7-8743-51833826c420",
   "metadata": {},
   "source": [
    "Tarea 2.5"
   ]
  },
  {
   "cell_type": "markdown",
   "id": "8a5031e1-6171-441f-8b32-6cc60a47ed5b",
   "metadata": {},
   "source": [
    "Sin usar ciclos for, while, ni recurrencia escriba un código que calcule la siguiente sumatoria\n",
    "$$\n",
    "\\sum_{n = 1}^{100} n*(n+1)\n",
    "$$\n"
   ]
  },
  {
   "cell_type": "code",
   "execution_count": 3,
   "id": "c828086b-8948-4f34-aec0-d80009b4c435",
   "metadata": {},
   "outputs": [],
   "source": [
    "import numpy as np #Se importa el paquete numpy con abreviacion np"
   ]
  },
  {
   "cell_type": "code",
   "execution_count": 13,
   "id": "5617ea00-d68f-4f3a-817a-baceae7f8c7b",
   "metadata": {},
   "outputs": [
    {
     "name": "stdout",
     "output_type": "stream",
     "text": [
      "numeros de la sumatoria [    2     6    12    20    30    42    56    72    90   110   132   156\n",
      "   182   210   240   272   306   342   380   420   462   506   552   600\n",
      "   650   702   756   812   870   930   992  1056  1122  1190  1260  1332\n",
      "  1406  1482  1560  1640  1722  1806  1892  1980  2070  2162  2256  2352\n",
      "  2450  2550  2652  2756  2862  2970  3080  3192  3306  3422  3540  3660\n",
      "  3782  3906  4032  4160  4290  4422  4556  4692  4830  4970  5112  5256\n",
      "  5402  5550  5700  5852  6006  6162  6320  6480  6642  6806  6972  7140\n",
      "  7310  7482  7656  7832  8010  8190  8372  8556  8742  8930  9120  9312\n",
      "  9506  9702  9900 10100]\n",
      "Resultado total de la sumatoria 343400\n"
     ]
    }
   ],
   "source": [
    "#Definimos el rango de n con arange para un inicio en 1 y final en 100\n",
    "n = np.arange (1, 101) \n",
    "#Para obtener todos los numeros resultantes de la sumatoria uno a uno\n",
    "arreglo = [(n*(n+1))] #Utilizamos un arreglo para obtener cada numero de la sumatoria\n",
    "numeros = sum (arreglo) #Definimos los numeros como la suma total del arreglo\n",
    "print(\"numeros de la sumatoria\",numeros)\n",
    "\n",
    "#Para el resultado total de la sumatoria \n",
    "sumatoria = sum (n * (n + 1))  #Utilizamos el sum para sumar todos los numeros resultantes\n",
    "print(\"Resultado total de la sumatoria\", sumatoria)\n",
    "\n",
    "          "
   ]
  },
  {
   "cell_type": "code",
   "execution_count": null,
   "id": "86dfce8e-7936-4e8f-b8e6-268a17ac999e",
   "metadata": {},
   "outputs": [],
   "source": []
  }
 ],
 "metadata": {
  "kernelspec": {
   "display_name": "Python 3 (ipykernel)",
   "language": "python",
   "name": "python3"
  },
  "language_info": {
   "codemirror_mode": {
    "name": "ipython",
    "version": 3
   },
   "file_extension": ".py",
   "mimetype": "text/x-python",
   "name": "python",
   "nbconvert_exporter": "python",
   "pygments_lexer": "ipython3",
   "version": "3.9.12"
  }
 },
 "nbformat": 4,
 "nbformat_minor": 5
}
