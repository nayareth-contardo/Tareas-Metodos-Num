{
 "cells": [
  {
   "cell_type": "markdown",
   "id": "633630a5-3dca-4f0a-a028-4e3db64f85b1",
   "metadata": {},
   "source": [
    "## Tarea 1.5"
   ]
  },
  {
   "cell_type": "markdown",
   "id": "91f8e16c-96b3-45cf-adfc-4438982c5735",
   "metadata": {},
   "source": [
    "Use Python como una calculadora para calcular cuál es la velocidad inicial de una bola que cae una distancia de  2  metros en  0.3  segundos."
   ]
  },
  {
   "cell_type": "markdown",
   "id": "e069ee05-d110-46c7-8ef1-4d946c2f6b76",
   "metadata": {},
   "source": [
    "$$x = vt - \\frac{1}{2}g t^2$$\n",
    "\n",
    "y entonces\n",
    "\n",
    "$$v = \\frac{x}{t} + \\frac{1}{2}gt$$"
   ]
  },
  {
   "cell_type": "code",
   "execution_count": 19,
   "id": "6551e01a-b3bf-431f-8c44-5fab71227494",
   "metadata": {},
   "outputs": [
    {
     "name": "stdout",
     "output_type": "stream",
     "text": [
      "velocidad inicial 8.136666666666667 m/s\n"
     ]
    }
   ],
   "source": [
    "#Definimos la distancia en metros\n",
    "x = 2\n",
    "#Tiempo en segundos \n",
    "t = 0.3\n",
    "#Gravedad en metros/segundo\n",
    "g = 9.8\n",
    "#Calculamos la velocidad utilizando la formula \n",
    "v = (x/t)+(1/2)*g*t\n",
    "print(\"velocidad inicial\", v, \"m/s\") #definimos que el resultado este en m/s"
   ]
  },
  {
   "cell_type": "code",
   "execution_count": null,
   "id": "a15b1f36-3b4d-4ace-be32-caaef47be948",
   "metadata": {},
   "outputs": [],
   "source": []
  }
 ],
 "metadata": {
  "kernelspec": {
   "display_name": "Python 3 (ipykernel)",
   "language": "python",
   "name": "python3"
  },
  "language_info": {
   "codemirror_mode": {
    "name": "ipython",
    "version": 3
   },
   "file_extension": ".py",
   "mimetype": "text/x-python",
   "name": "python",
   "nbconvert_exporter": "python",
   "pygments_lexer": "ipython3",
   "version": "3.9.12"
  }
 },
 "nbformat": 4,
 "nbformat_minor": 5
}
